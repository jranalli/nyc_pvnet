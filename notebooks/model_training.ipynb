{
 "cells": [
  {
   "cell_type": "markdown",
   "source": [
    "# Model Workflow"
   ],
   "metadata": {
    "collapsed": false
   }
  },
  {
   "cell_type": "code",
   "execution_count": 1,
   "outputs": [],
   "source": [
    "from model.preprocess_sample import split_test_train\n",
    "\n",
    "my_test_ratio = 0.1\n",
    "myseed = 42\n",
    "\n",
    "img_root = \"c:\\\\nycdata\\\\sample_subset\\\\tiles\\\\imgs\"\n",
    "mask_root = \"c:\\\\nycdata\\\\sample_subset\\\\tiles\\\\masks\"\n",
    "dataroot = \"c:\\\\nycdata\\\\sample_subset\\\\tiles\"\n",
    "\n",
    "split_test_train(img_root, mask_root, dataroot, seed=myseed, test_ratio=my_test_ratio)"
   ],
   "metadata": {
    "collapsed": false
   }
  },
  {
   "cell_type": "markdown",
   "source": [
    "## Training"
   ],
   "metadata": {
    "collapsed": false
   }
  },
  {
   "cell_type": "code",
   "execution_count": null,
   "outputs": [],
   "source": [
    "from model.train_model import train_unet\n",
    "import os\n",
    "\n",
    "mysize = 576\n",
    "mybackbone = \"resnet34\"\n",
    "myinputpath = os.path.join(dataroot, f\"train_imgs_{myseed}\")\n",
    "mymaskpath = os.path.join(dataroot, f\"train_masks_{myseed}\")\n",
    "myweightfile = f\"c:\\\\nycdata\\\\sample_subset\\\\results\\\\{mybackbone}_{myseed}_weights_best.h5\"\n",
    "myfinalweightfile = f\"c:\\\\nycdata\\\\sample_subset\\\\results\\\\{mybackbone}_{myseed}_weights_final.h5\"\n",
    "mylogfile = f\"c:\\\\nycdata\\\\sample_subset\\\\results\\\\{mybackbone}_{myseed}_trainlog.csv\"\n",
    "\n",
    "train_unet(myinputpath, mymaskpath, mylogfile, myweightfile, myfinalweightfile, mybackbone, myseed, mysize)"
   ],
   "metadata": {
    "collapsed": false
   }
  },
  {
   "cell_type": "markdown",
   "source": [
    "## Split"
   ],
   "metadata": {
    "collapsed": false
   }
  },
  {
   "cell_type": "code",
   "execution_count": null,
   "outputs": [
    {
     "name": "stdout",
     "output_type": "stream",
     "text": [
      "==== Load and Resize Data ====\n"
     ]
    }
   ],
   "source": [
    "from model.eval_model import eval_model\n",
    "\n",
    "mysize = 576\n",
    "\n",
    "mybackbone = \"resnet34\"\n",
    "myseed = 42\n",
    "\n",
    "myimages = os.path.join(dataroot, f\"test_imgs_{myseed}\")\n",
    "mymasks = os.path.join(dataroot, f\"test_masks_{myseed}\")\n",
    "\n",
    "mypreddir = f\"c:\\\\nycdata\\\\sample_subset\\\\results\\\\results_{mybackbone}_{myseed}\\\\pred\"\n",
    "myplotdir = f\"c:\\\\nycdata\\\\sample_subset\\\\results\\\\results_{mybackbone}_{myseed}\\\\plot\"\n",
    "myresultfile = \"c:\\\\nycdata\\\\sample_subset\\\\results\\\\performance.csv\"\n",
    "\n",
    "eval_model(myimages, mymasks, myweightfile, myresultfile, mypreddir, myplotdir, backbone=mybackbone, imsize=mysize)"
   ],
   "metadata": {
    "collapsed": false
   }
  },
  {
   "cell_type": "code",
   "execution_count": null,
   "outputs": [],
   "source": [],
   "metadata": {
    "collapsed": false
   }
  }
 ],
 "metadata": {
  "kernelspec": {
   "display_name": "Python 3",
   "language": "python",
   "name": "python3"
  },
  "language_info": {
   "codemirror_mode": {
    "name": "ipython",
    "version": 2
   },
   "file_extension": ".py",
   "mimetype": "text/x-python",
   "name": "python",
   "nbconvert_exporter": "python",
   "pygments_lexer": "ipython2",
   "version": "2.7.6"
  }
 },
 "nbformat": 4,
 "nbformat_minor": 0
}
