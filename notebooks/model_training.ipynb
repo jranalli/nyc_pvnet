{
 "cells": [
  {
   "cell_type": "code",
   "execution_count": null,
   "metadata": {
    "collapsed": true
   },
   "outputs": [],
   "source": [
    "from model.train_model import train_unet\n",
    "\n",
    "mysize = 576\n",
    "myseed = 42\n",
    "mybackbone = \"resnet34\"\n",
    "myinputpath = \"c:\\\\nycdata\\\\sample_subset\\\\final\\\\data\"\n",
    "mymaskpath = \"c:\\\\nycdata\\\\sample_subset\\\\final\\\\masks\"\n",
    "myweightfile = f\"c:\\\\nycdata\\\\sample_subset\\\\{mybackbone}_{myseed}_weights.h5\"\n",
    "myfinalweightfile = f\"c:\\\\nycdata\\\\sample_subset\\\\{mybackbone}_{myseed}_weights.h5\"\n",
    "mylogfile = f\"c:\\\\nycdata\\\\sample_subset\\\\{mybackbone}_{myseed}_log.h5\"\n",
    "\n",
    "# Need to split training and test datasets\n",
    "\n"
   ]
  },
  {
   "cell_type": "code",
   "execution_count": null,
   "outputs": [],
   "source": [
    "from tensorflow.python.client import device_lib\n",
    "device_lib.list_local_devices()"
   ],
   "metadata": {
    "collapsed": false
   }
  },
  {
   "cell_type": "code",
   "execution_count": null,
   "outputs": [],
   "source": [
    "train_unet(myinputpath, mymaskpath, mylogfile, myweightfile, myfinalweightfile, mybackbone, myseed, mysize)"
   ],
   "metadata": {
    "collapsed": false
   }
  },
  {
   "cell_type": "code",
   "execution_count": null,
   "outputs": [],
   "source": [],
   "metadata": {
    "collapsed": false
   }
  }
 ],
 "metadata": {
  "kernelspec": {
   "display_name": "Python 3",
   "language": "python",
   "name": "python3"
  },
  "language_info": {
   "codemirror_mode": {
    "name": "ipython",
    "version": 2
   },
   "file_extension": ".py",
   "mimetype": "text/x-python",
   "name": "python",
   "nbconvert_exporter": "python",
   "pygments_lexer": "ipython2",
   "version": "2.7.6"
  }
 },
 "nbformat": 4,
 "nbformat_minor": 0
}
