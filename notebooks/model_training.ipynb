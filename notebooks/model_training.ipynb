{
 "cells": [
  {
   "cell_type": "code",
   "execution_count": null,
   "metadata": {
    "collapsed": true
   },
   "outputs": [],
   "source": [
    "from model.train_model import train_unet\n",
    "\n",
    "mysize = 576\n",
    "myseed = 42\n",
    "mybackbone = \"resnet34\"\n",
    "myinputpath = f\"c:\\\\nycdata\\\\sample_subset\\\\tiles\\\\train_imgs_{myseed}\"\n",
    "mymaskpath = f\"c:\\\\nycdata\\\\sample_subset\\\\tiles\\\\train_masks_{myseed}\"\n",
    "myweightfile = f\"c:\\\\nycdata\\\\sample_subset\\\\results\\\\{mybackbone}_{myseed}_weights_best.h5\"\n",
    "myfinalweightfile = f\"c:\\\\nycdata\\\\sample_subset\\\\results\\\\{mybackbone}_{myseed}_weights_final.h5\"\n",
    "mylogfile = f\"c:\\\\nycdata\\\\sample_subset\\\\results\\\\{mybackbone}_{myseed}_trainlog.csv\"\n",
    "\n",
    "# Need to split training and test datasets\n",
    "\n"
   ]
  },
  {
   "cell_type": "code",
   "execution_count": null,
   "outputs": [],
   "source": [
    "from tensorflow.python.client import device_lib\n",
    "device_lib.list_local_devices()"
   ],
   "metadata": {
    "collapsed": false
   }
  },
  {
   "cell_type": "code",
   "execution_count": null,
   "outputs": [],
   "source": [
    "train_unet(myinputpath, mymaskpath, mylogfile, myweightfile, myfinalweightfile, mybackbone, myseed, mysize)"
   ],
   "metadata": {
    "collapsed": false
   }
  },
  {
   "cell_type": "code",
   "execution_count": null,
   "outputs": [],
   "source": [
    "from model.eval_model import eval_model\n",
    "\n",
    "mysize = 576\n",
    "\n",
    "mybackbone = \"resnet34\"\n",
    "myseed = 42\n",
    "\n",
    "myimages = f\"c:\\\\nycdata\\\\sample_subset\\\\tiles\\\\test_imgs_{myseed}\"\n",
    "mymasks = f\"c:\\\\nycdata\\\\sample_subset\\\\tiles\\\\test_imgs_{myseed}\"\n",
    "myweightfile = f\"c:\\\\nycdata\\\\sample_subset\\\\results\\\\{mybackbone}_{myseed}_weights_best.h5\"\n",
    "\n",
    "mypreddir = f\"c:\\\\nycdata\\\\sample_subset\\\\results\\\\results_{mybackbone}_{myseed}\\\\pred\"\n",
    "myplotdir = f\"c:\\\\nycdata\\\\sample_subset\\\\results\\\\results_{mybackbone}_{myseed}\\\\plot\"\n",
    "myresultfile = \"c:\\\\nycdata\\\\sample_subset\\\\results\\\\performance.csv\"\n",
    "eval_model(myimages, mymasks, myweightfile, myresultfile, mypreddir,\n",
    "           myplotdir, backbone=mybackbone, imsize=mysize)"
   ],
   "metadata": {
    "collapsed": false
   }
  }
 ],
 "metadata": {
  "kernelspec": {
   "display_name": "Python 3",
   "language": "python",
   "name": "python3"
  },
  "language_info": {
   "codemirror_mode": {
    "name": "ipython",
    "version": 2
   },
   "file_extension": ".py",
   "mimetype": "text/x-python",
   "name": "python",
   "nbconvert_exporter": "python",
   "pygments_lexer": "ipython2",
   "version": "2.7.6"
  }
 },
 "nbformat": 4,
 "nbformat_minor": 0
}
